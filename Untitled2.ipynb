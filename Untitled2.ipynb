{
 "cells": [
  {
   "cell_type": "code",
   "execution_count": 1,
   "metadata": {},
   "outputs": [],
   "source": [
    "a=0;b=1\n",
    "a,b=0,1"
   ]
  },
  {
   "cell_type": "code",
   "execution_count": 3,
   "metadata": {},
   "outputs": [
    {
     "name": "stdout",
     "output_type": "stream",
     "text": [
      "1\n",
      "1\n",
      "2\n",
      "3\n",
      "5\n",
      "8\n",
      "13\n"
     ]
    }
   ],
   "source": [
    "#斐波纳契数列\n",
    "a,b = 0,1\n",
    "while b<20:\n",
    "    print(b)\n",
    "    a,b=b,a+b\n"
   ]
  },
  {
   "cell_type": "code",
   "execution_count": 6,
   "metadata": {},
   "outputs": [
    {
     "name": "stdout",
     "output_type": "stream",
     "text": [
      "Help on built-in function print in module builtins:\n",
      "\n",
      "print(...)\n",
      "    print(value, ..., sep=' ', end='\\n', file=sys.stdout, flush=False)\n",
      "    \n",
      "    Prints the values to a stream, or to sys.stdout by default.\n",
      "    Optional keyword arguments:\n",
      "    file:  a file-like object (stream); defaults to the current sys.stdout.\n",
      "    sep:   string inserted between values, default a space.\n",
      "    end:   string appended after the last value, default a newline.\n",
      "    flush: whether to forcibly flush the stream.\n",
      "\n"
     ]
    }
   ],
   "source": [
    "help(print)"
   ]
  },
  {
   "cell_type": "code",
   "execution_count": 9,
   "metadata": {},
   "outputs": [
    {
     "name": "stdout",
     "output_type": "stream",
     "text": [
      "1,1,2,3,5,8,13,21,34,55,89,144,233,377,610,987,"
     ]
    }
   ],
   "source": [
    "#斐波纳契数列\n",
    "a,b = 0,1\n",
    "while b<1000:\n",
    "    print(b,end=',')\n",
    "    a,b=b,a+b\n"
   ]
  },
  {
   "cell_type": "code",
   "execution_count": 13,
   "metadata": {},
   "outputs": [
    {
     "name": "stdout",
     "output_type": "stream",
     "text": [
      "1\n",
      "1\n",
      "2\n",
      "3\n",
      "5\n",
      "8\n",
      "13\n",
      "21\n",
      "34\n",
      "55\n",
      "89\n",
      "144\n",
      "233\n",
      "377\n",
      "610\n",
      "987\n"
     ]
    }
   ],
   "source": [
    "var=110\n",
    "if "
   ]
  },
  {
   "cell_type": "code",
   "execution_count": 17,
   "metadata": {},
   "outputs": [
    {
     "name": "stdout",
     "output_type": "stream",
     "text": [
      "请输入你家狗狗的年龄: 5\n",
      "\n",
      "对应人类年龄:  37\n",
      "点击enter 键退出\n"
     ]
    },
    {
     "data": {
      "text/plain": [
       "''"
      ]
     },
     "execution_count": 17,
     "metadata": {},
     "output_type": "execute_result"
    }
   ],
   "source": [
    "age=int(input(\"请输入你家狗狗的年龄: \"))\n",
    "print(\"\")\n",
    "if age<0:\n",
    "    print(\"你是在逗我吧!\")\n",
    "elif age==11:\n",
    "    print(\"相当于 14 岁的人。\")\n",
    "elif age==2:\n",
    "    print2(\"相当于 22 岁的人。\")\n",
    "elif age>2:\n",
    "    human=22+(age-2)*5\n",
    "    print(\"对应人类年龄: \", human)\n",
    "\n",
    "input(\"点击enter 键退出\")"
   ]
  },
  {
   "cell_type": "code",
   "execution_count": 18,
   "metadata": {},
   "outputs": [
    {
     "name": "stdout",
     "output_type": "stream",
     "text": [
      "数字猜谜游戏!\n",
      "请输入你猜的数字：6\n",
      "猜的数字小了...\n",
      "请输入你猜的数字：7\n",
      "恭喜，你猜对了！\n"
     ]
    }
   ],
   "source": [
    "number = 7\n",
    "guess = -1\n",
    "print(\"数字猜谜游戏!\")\n",
    "while guess != number:\n",
    "    guess = int(input(\"请输入你猜的数字：\"))\n",
    " \n",
    "    if guess == number:\n",
    "        print(\"恭喜，你猜对了！\")\n",
    "    elif guess < number:\n",
    "        print(\"猜的数字小了...\")\n",
    "    elif guess > number:\n",
    "        print(\"猜的数字大了...\")"
   ]
  },
  {
   "cell_type": "code",
   "execution_count": 19,
   "metadata": {},
   "outputs": [
    {
     "name": "stdout",
     "output_type": "stream",
     "text": [
      "输入一个数字：8\n",
      "你输入的数字可以整除 2，但不能整除 3\n"
     ]
    }
   ],
   "source": [
    "num=int(input(\"输入一个数字：\"))\n",
    "if num%2==0:\n",
    "    if num%3==0:\n",
    "        print (\"你输入的数字可以整除 2 和 3\")\n",
    "    else:\n",
    "        print (\"你输入的数字可以整除 2，但不能整除 3\")\n",
    "else:\n",
    "    if num%3==0:\n",
    "        print (\"你输入的数字可以整除 3，但不能整除 2\")\n",
    "    else:\n",
    "        print  (\"你输入的数字不能整除 2 和 3\")\n"
   ]
  },
  {
   "cell_type": "code",
   "execution_count": 4,
   "metadata": {},
   "outputs": [
    {
     "name": "stdout",
     "output_type": "stream",
     "text": [
      "y: 86\n"
     ]
    }
   ],
   "source": [
    "import random\n",
    "\n",
    "x = random.choice(range(100))\n",
    "y = random.choice(range(200))\n",
    "if x > y:\n",
    "    print('x:',x)\n",
    "elif x == y:\n",
    "    print('x+y:', x + y)\n",
    "else:\n",
    "    print('y:',y)"
   ]
  },
  {
   "cell_type": "code",
   "execution_count": 6,
   "metadata": {},
   "outputs": [
    {
     "name": "stdout",
     "output_type": "stream",
     "text": [
      "x: 78\n"
     ]
    }
   ],
   "source": [
    "import random\n",
    "\n",
    "x = random.choice(range(100))\n",
    "y = random.choice(range(200))\n",
    "if x > y:\n",
    "    print('x:',x)\n",
    "elif x == y:\n",
    "    print('x+y:', x + y)\n",
    "else:\n",
    "    print('y:',y)"
   ]
  },
  {
   "cell_type": "code",
   "execution_count": 7,
   "metadata": {},
   "outputs": [
    {
     "name": "stdout",
     "output_type": "stream",
     "text": [
      "1 到 100 之和为: 5050\n"
     ]
    }
   ],
   "source": [
    "n = 100\n",
    "sum = 0\n",
    "counter = 1\n",
    "while counter <= n:\n",
    "    sum = sum + counter\n",
    "    counter += 1\n",
    "print(\"1 到 %d 之和为: %d\" % (n,sum))"
   ]
  },
  {
   "cell_type": "code",
   "execution_count": 9,
   "metadata": {},
   "outputs": [
    {
     "name": "stdout",
     "output_type": "stream",
     "text": [
      "1 到 200之和为:20100\n"
     ]
    }
   ],
   "source": [
    "n = 200\n",
    "sum = 0\n",
    "counter = 1\n",
    "while counter <= n:\n",
    "    sum = sum + counter\n",
    "    counter += 1\n",
    "print(\"1 到 {}之和为:{}\".format(n,sum))"
   ]
  },
  {
   "cell_type": "code",
   "execution_count": null,
   "metadata": {},
   "outputs": [
    {
     "name": "stdout",
     "output_type": "stream",
     "text": [
      "输入一个数字  :9\n",
      "你输入的数字是:  9\n",
      "输入一个数字  :0\n",
      "你输入的数字是:  0\n",
      "输入一个数字  :9\n",
      "你输入的数字是:  9\n",
      "输入一个数字  :87\n",
      "你输入的数字是:  87\n",
      "输入一个数字  :66\n",
      "你输入的数字是:  66\n"
     ]
    }
   ],
   "source": [
    "var = 1\n",
    "while var == 1 :\n",
    "   num = int(input(\"输入一个数字  :\"))\n",
    "   print (\"你输入的数字是: \", num)\n",
    "print (\"Good bye!\")"
   ]
  },
  {
   "cell_type": "code",
   "execution_count": 1,
   "metadata": {},
   "outputs": [
    {
     "name": "stdout",
     "output_type": "stream",
     "text": [
      "0 小于 5\n",
      "1 小于 5\n",
      "2 小于 5\n",
      "3 小于 5\n",
      "4 小于 5\n",
      "5  大于或等于 5\n"
     ]
    }
   ],
   "source": [
    "count = 0\n",
    "while count < 5:\n",
    "    print(count, \"小于 5\")\n",
    "    count = count + 1\n",
    "else:\n",
    "    print(count, \" 大于或等于 5\")"
   ]
  },
  {
   "cell_type": "code",
   "execution_count": 3,
   "metadata": {},
   "outputs": [
    {
     "name": "stdout",
     "output_type": "stream",
     "text": [
      "循环数据 Baidu\n",
      "循环数据 Google\n",
      "循环数据 360\n",
      "循环数据 Taobao\n",
      "没有循环数据!\n",
      "完成循环!\n"
     ]
    }
   ],
   "source": [
    "sites = [\"Baidu\", \"Google\",\"360\",\"Taobao\"]\n",
    "for site in sites:\n",
    "    if site == \"Runoob\":\n",
    "        print(\"菜鸟教程!\")\n",
    "        break\n",
    "    print(\"循环数据 \" + site)\n",
    "else:\n",
    "    print(\"没有循环数据!\")\n",
    "print(\"完成循环!\")"
   ]
  },
  {
   "cell_type": "code",
   "execution_count": 4,
   "metadata": {},
   "outputs": [
    {
     "name": "stdout",
     "output_type": "stream",
     "text": [
      "5\n",
      "6\n",
      "7\n",
      "8\n"
     ]
    }
   ],
   "source": [
    "for i in range(5,9) :\n",
    "    print(i)"
   ]
  },
  {
   "cell_type": "code",
   "execution_count": 5,
   "metadata": {},
   "outputs": [
    {
     "name": "stdout",
     "output_type": "stream",
     "text": [
      "0\n",
      "1\n",
      "2\n",
      "3\n",
      "4\n",
      "5\n"
     ]
    }
   ],
   "source": [
    "for i in range(6) :\n",
    "    print(i)"
   ]
  },
  {
   "cell_type": "code",
   "execution_count": 6,
   "metadata": {},
   "outputs": [
    {
     "name": "stdout",
     "output_type": "stream",
     "text": [
      "Help on class range in module builtins:\n",
      "\n",
      "class range(object)\n",
      " |  range(stop) -> range object\n",
      " |  range(start, stop[, step]) -> range object\n",
      " |  \n",
      " |  Return an object that produces a sequence of integers from start (inclusive)\n",
      " |  to stop (exclusive) by step.  range(i, j) produces i, i+1, i+2, ..., j-1.\n",
      " |  start defaults to 0, and stop is omitted!  range(4) produces 0, 1, 2, 3.\n",
      " |  These are exactly the valid indices for a list of 4 elements.\n",
      " |  When step is given, it specifies the increment (or decrement).\n",
      " |  \n",
      " |  Methods defined here:\n",
      " |  \n",
      " |  __bool__(self, /)\n",
      " |      self != 0\n",
      " |  \n",
      " |  __contains__(self, key, /)\n",
      " |      Return key in self.\n",
      " |  \n",
      " |  __eq__(self, value, /)\n",
      " |      Return self==value.\n",
      " |  \n",
      " |  __ge__(self, value, /)\n",
      " |      Return self>=value.\n",
      " |  \n",
      " |  __getattribute__(self, name, /)\n",
      " |      Return getattr(self, name).\n",
      " |  \n",
      " |  __getitem__(self, key, /)\n",
      " |      Return self[key].\n",
      " |  \n",
      " |  __gt__(self, value, /)\n",
      " |      Return self>value.\n",
      " |  \n",
      " |  __hash__(self, /)\n",
      " |      Return hash(self).\n",
      " |  \n",
      " |  __iter__(self, /)\n",
      " |      Implement iter(self).\n",
      " |  \n",
      " |  __le__(self, value, /)\n",
      " |      Return self<=value.\n",
      " |  \n",
      " |  __len__(self, /)\n",
      " |      Return len(self).\n",
      " |  \n",
      " |  __lt__(self, value, /)\n",
      " |      Return self<value.\n",
      " |  \n",
      " |  __ne__(self, value, /)\n",
      " |      Return self!=value.\n",
      " |  \n",
      " |  __new__(*args, **kwargs) from builtins.type\n",
      " |      Create and return a new object.  See help(type) for accurate signature.\n",
      " |  \n",
      " |  __reduce__(...)\n",
      " |      helper for pickle\n",
      " |  \n",
      " |  __repr__(self, /)\n",
      " |      Return repr(self).\n",
      " |  \n",
      " |  __reversed__(...)\n",
      " |      Return a reverse iterator.\n",
      " |  \n",
      " |  count(...)\n",
      " |      rangeobject.count(value) -> integer -- return number of occurrences of value\n",
      " |  \n",
      " |  index(...)\n",
      " |      rangeobject.index(value, [start, [stop]]) -> integer -- return index of value.\n",
      " |      Raise ValueError if the value is not present.\n",
      " |  \n",
      " |  ----------------------------------------------------------------------\n",
      " |  Data descriptors defined here:\n",
      " |  \n",
      " |  start\n",
      " |  \n",
      " |  step\n",
      " |  \n",
      " |  stop\n",
      "\n"
     ]
    }
   ],
   "source": [
    "help(range)"
   ]
  },
  {
   "cell_type": "code",
   "execution_count": 7,
   "metadata": {},
   "outputs": [
    {
     "name": "stdout",
     "output_type": "stream",
     "text": [
      "0\n",
      "3\n",
      "6\n",
      "9\n"
     ]
    }
   ],
   "source": [
    "for i in range(0, 10, 3) :\n",
    "    print(i)"
   ]
  },
  {
   "cell_type": "code",
   "execution_count": 10,
   "metadata": {},
   "outputs": [
    {
     "name": "stdout",
     "output_type": "stream",
     "text": [
      "0\n",
      "2\n",
      "4\n",
      "6\n",
      "8\n"
     ]
    }
   ],
   "source": [
    "for i in range(0, 10, 2) :\n",
    "    print(i)"
   ]
  },
  {
   "cell_type": "code",
   "execution_count": 11,
   "metadata": {},
   "outputs": [
    {
     "name": "stdout",
     "output_type": "stream",
     "text": [
      "0\n",
      "1\n",
      "2\n",
      "3\n",
      "4\n",
      "5\n",
      "6\n",
      "7\n",
      "8\n",
      "9\n"
     ]
    }
   ],
   "source": [
    "for i in range(0, 10, 1) :\n",
    "    print(i)"
   ]
  },
  {
   "cell_type": "code",
   "execution_count": 12,
   "metadata": {},
   "outputs": [
    {
     "data": {
      "text/plain": [
       "[0, 1, 2, 3, 4]"
      ]
     },
     "execution_count": 12,
     "metadata": {},
     "output_type": "execute_result"
    }
   ],
   "source": [
    "list(range(5))"
   ]
  },
  {
   "cell_type": "code",
   "execution_count": 15,
   "metadata": {},
   "outputs": [
    {
     "name": "stdout",
     "output_type": "stream",
     "text": [
      "当前字母为 : E\n",
      "当前字母为 : C\n"
     ]
    }
   ],
   "source": [
    "for letter in 'ECNUCHINA':\n",
    "    if letter == 'N':\n",
    "        break\n",
    "    print('当前字母为 :', letter)\n",
    "  \n"
   ]
  },
  {
   "cell_type": "code",
   "execution_count": 16,
   "metadata": {},
   "outputs": [
    {
     "name": "stdout",
     "output_type": "stream",
     "text": [
      "当期变量值为 : 10\n",
      "Good bye!\n",
      "当期变量值为 : 9\n",
      "Good bye!\n",
      "当期变量值为 : 8\n",
      "Good bye!\n",
      "当期变量值为 : 7\n",
      "Good bye!\n",
      "当期变量值为 : 6\n"
     ]
    }
   ],
   "source": [
    "var = 10                    # 第二个实例\n",
    "while var > 0:              \n",
    "    print ('当期变量值为 :', var)\n",
    "    var = var -1\n",
    "    if var == 5:\n",
    "        break\n",
    "    print(\"Good bye!\")"
   ]
  },
  {
   "cell_type": "code",
   "execution_count": 18,
   "metadata": {},
   "outputs": [
    {
     "name": "stdout",
     "output_type": "stream",
     "text": [
      "2  是质数\n",
      "3  是质数\n",
      "4 等于 2 * 2\n",
      "5  是质数\n",
      "6 等于 2 * 3\n",
      "7  是质数\n",
      "8 等于 2 * 4\n",
      "9 等于 3 * 3\n"
     ]
    }
   ],
   "source": [
    "for n in range(2, 10):\n",
    "    for x in range(2, n):\n",
    "        if n % x == 0:\n",
    "            print(n, '等于', x, '*', n//x)\n",
    "            break\n",
    "    else:\n",
    "        print(n, ' 是质数')"
   ]
  },
  {
   "cell_type": "code",
   "execution_count": null,
   "metadata": {},
   "outputs": [],
   "source": [
    "while True: \n",
    "    pass  "
   ]
  },
  {
   "cell_type": "code",
   "execution_count": 4,
   "metadata": {},
   "outputs": [
    {
     "name": "stdout",
     "output_type": "stream",
     "text": [
      "*\r\n",
      "**\r\n",
      "***\r\n",
      "****\r\n",
      "*****\r\n"
     ]
    }
   ],
   "source": [
    "for i in range(1,6):\n",
    "    for j in range(1, i+1):\n",
    "        print(\"*\",end='')\n",
    "    print('\\r')"
   ]
  },
  {
   "cell_type": "code",
   "execution_count": null,
   "metadata": {},
   "outputs": [
    {
     "name": "stdout",
     "output_type": "stream",
     "text": [
      "输入石头，剪刀，布，输入end结束游戏：剪刀\n",
      "平\n",
      "输入石头，剪刀，布，输入end结束游戏：石头\n",
      "平\n",
      "输入石头，剪刀，布，输入end结束游戏：布\n",
      "电脑出了： 石头，你赢了！\n",
      "输入石头，剪刀，布，输入end结束游戏：石头\n",
      "平\n",
      "输入石头，剪刀，布，输入end结束游戏：剪刀\n",
      "电脑出了： 石头，你输了！\n",
      "输入石头，剪刀，布，输入end结束游戏：石头\n",
      "电脑出了： 剪刀，你赢了！\n",
      "输入石头，剪刀，布，输入end结束游戏：布\n",
      "电脑出了： 剪刀，你输了！\n",
      "输入石头，剪刀，布，输入end结束游戏：布\n",
      "电脑出了： 剪刀，你输了！\n",
      "输入石头，剪刀，布，输入end结束游戏：布\n",
      "平\n",
      "输入石头，剪刀，布，输入end结束游戏：布\n",
      "电脑出了： 剪刀，你输了！\n",
      "输入石头，剪刀，布，输入end结束游戏：石头\n",
      "平\n",
      "输入石头，剪刀，布，输入end结束游戏：石头\n",
      "电脑出了： 剪刀，你赢了！\n"
     ]
    }
   ],
   "source": [
    "import random\n",
    "while 1:\n",
    "    s=int(random.randint(1,3))\n",
    "    if s==1:\n",
    "        ind=\"石头\"\n",
    "    elif s==2:\n",
    "        ind=\"剪刀\"\n",
    "    elif s==3:\n",
    "        ind=\"布\" \n",
    "    m=input('输入石头，剪刀，布，输入end结束游戏：')\n",
    "    \n",
    "    blist=['石头','剪刀','布']\n",
    "    \n",
    "    if(m not in blist) and (m!='end'):\n",
    "        print(\"输入错误，重试：\")\n",
    "    elif(m=='end')and(m not in blist):\n",
    "        print(ind)\n",
    "        print(\"\\n游戏退出\")\n",
    "        break\n",
    "    elif m==ind:\n",
    "        print(\"平\")\n",
    "    elif(m == '石头' and ind =='剪刀') or (m == '剪刀' and ind =='布') or (m == '布' and ind =='石头'):\n",
    "        print(\"电脑出了： \" + ind +\"，你赢了！\")\n",
    "    else:\n",
    "        print(\"电脑出了： \" + ind +\"，你输了！\")"
   ]
  },
  {
   "cell_type": "code",
   "execution_count": 2,
   "metadata": {},
   "outputs": [
    {
     "name": "stdout",
     "output_type": "stream",
     "text": [
      "\t\t\t\t\t\t\t\t9x9=81\t\n",
      "\t\t\t\t\t\t\t8x8=64\t8x9=72\t\n",
      "\t\t\t\t\t\t7x7=49\t7x8=56\t7x9=63\t\n",
      "\t\t\t\t\t6x6=36\t6x7=42\t6x8=48\t6x9=54\t\n",
      "\t\t\t\t5x5=25\t5x6=30\t5x7=35\t5x8=40\t5x9=45\t\n",
      "\t\t\t4x4=16\t4x5=20\t4x6=24\t4x7=28\t4x8=32\t4x9=36\t\n",
      "\t\t3x3=9\t3x4=12\t3x5=15\t3x6=18\t3x7=21\t3x8=24\t3x9=27\t\n",
      "\t2x2=4\t2x3=6\t2x4=8\t2x5=10\t2x6=12\t2x7=14\t2x8=16\t2x9=18\t\n",
      "1x1=1\t1x2=2\t1x3=3\t1x4=4\t1x5=5\t1x6=6\t1x7=7\t1x8=8\t1x9=9\t\n"
     ]
    }
   ],
   "source": [
    "for i in range(9,0,-1):\n",
    "    for j in range (1,i):\n",
    "        print(\"\\t\",end=\"\")\n",
    "    for k in range (i,10):\n",
    "        print(\"%dx%d=%d\" % (i,k,k*i), end=\"\\t\")\n",
    "    print()"
   ]
  },
  {
   "cell_type": "code",
   "execution_count": 1,
   "metadata": {},
   "outputs": [
    {
     "name": "stdout",
     "output_type": "stream",
     "text": [
      "[0, 1, 2, 2, 4, 5, 7, 12, 21]\n"
     ]
    }
   ],
   "source": [
    "a=[1,5,4,2,2,21,12,7,0]\n",
    "b=list(set(a))  # 建立新的列表，嵌套的是集合（除去冗余元素并自动排序）\n",
    "c=[]            # 建立空列表，用来存放选择排序的数据\n",
    "for j in b:     #集合列表中选择元素\n",
    "    for i in a: #列表中选择元素，\n",
    "        if i ==j:\n",
    "            c.append(i)\n",
    "\n",
    "print(c)"
   ]
  },
  {
   "cell_type": "code",
   "execution_count": 5,
   "metadata": {},
   "outputs": [
    {
     "name": "stdout",
     "output_type": "stream",
     "text": [
      "[1, 2, 3, 5, 6, 6, 6, 6, 6, 8]\n"
     ]
    }
   ],
   "source": [
    "a=[1,2,5,8,3,6,6,6,6,6]\n",
    "a.sort()\n",
    "print(a)"
   ]
  },
  {
   "cell_type": "code",
   "execution_count": 6,
   "metadata": {},
   "outputs": [
    {
     "data": {
      "text/plain": [
       "[1, 2, 3, 5, 6, 6, 6, 6, 6, 8]"
      ]
     },
     "execution_count": 6,
     "metadata": {},
     "output_type": "execute_result"
    }
   ],
   "source": [
    "a"
   ]
  },
  {
   "cell_type": "code",
   "execution_count": null,
   "metadata": {},
   "outputs": [],
   "source": []
  }
 ],
 "metadata": {
  "kernelspec": {
   "display_name": "Python 3",
   "language": "python",
   "name": "python3"
  },
  "language_info": {
   "codemirror_mode": {
    "name": "ipython",
    "version": 3
   },
   "file_extension": ".py",
   "mimetype": "text/x-python",
   "name": "python",
   "nbconvert_exporter": "python",
   "pygments_lexer": "ipython3",
   "version": "3.6.5"
  }
 },
 "nbformat": 4,
 "nbformat_minor": 2
}
